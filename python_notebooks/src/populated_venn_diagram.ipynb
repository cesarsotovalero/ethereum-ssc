{
  "nbformat": 4,
  "nbformat_minor": 0,
  "metadata": {
    "colab": {
      "name": "populated_venn_diagram.ipynb",
      "provenance": []
    },
    "kernelspec": {
      "name": "python3",
      "display_name": "Python 3"
    },
    "language_info": {
      "name": "python"
    }
  },
  "cells": [
    {
      "cell_type": "code",
      "execution_count": 1,
      "metadata": {
        "colab": {
          "base_uri": "https://localhost:8080/"
        },
        "id": "QRYXZnXUjzLv",
        "outputId": "045166ce-300d-4391-c63d-6e39344a640d"
      },
      "outputs": [
        {
          "output_type": "stream",
          "name": "stdout",
          "text": [
            "Populating the interactive namespace from numpy and matplotlib\n"
          ]
        }
      ],
      "source": [
        "%pylab inline\n",
        "import numpy as np\n",
        "from matplotlib.patches import Circle\n",
        "from shapely.geometry import box, Polygon, Point, LineString\n",
        "from scipy.spatial import Voronoi, voronoi_plot_2d\n",
        "\n",
        "mpl.rcParams['font.family'] = 'Open Sans'\n",
        "\n"
      ]
    },
    {
      "cell_type": "code",
      "source": [
        "# Population sizes of the regions in the Venn diagram\n",
        "\n",
        "# Just A\n",
        "# A - B - C\n",
        "# just_a = 165\n",
        "\n",
        "# Just B\n",
        "# B - C - A\n",
        "just_b = 165\n",
        "\n",
        "# Just C\n",
        "# C - B - A\n",
        "just_c = 103\n",
        "\n",
        "# A ^ B\n",
        "# a_intersection_b = 3\n",
        "\n",
        "# A ^ C\n",
        "# a_intersection_c = 190\n",
        "\n",
        "# B ^ C\n",
        "b_intersection_c = 190\n",
        "\n",
        "# A ^ B ^ C\n",
        "# a_intersection_b_intersection_c = 15"
      ],
      "metadata": {
        "id": "oGPXfiPej92K"
      },
      "execution_count": 2,
      "outputs": []
    },
    {
      "cell_type": "code",
      "source": [
        "# a_x, a_y, a_r = 0,1,1.2\n",
        "b_x, b_y, b_r = -.5,0,1.2\n",
        "c_x, c_y, c_r = .5,0,1.2\n",
        "\n",
        "# A = Point(a_x, a_y).buffer(a_r)\n",
        "B = Point(b_x, b_y).buffer(b_r)\n",
        "C = Point(c_x, c_y).buffer(c_r)"
      ],
      "metadata": {
        "id": "4OW_LrQhkFF_"
      },
      "execution_count": 3,
      "outputs": []
    },
    {
      "cell_type": "code",
      "source": [
        "def random_points_within(shapely_poly, num_points, min_distance_from_edge=0.05):\n",
        "    shapely_poly = shapely_poly.buffer(-1*min_distance_from_edge)\n",
        "    min_x, min_y, max_x, max_y = shapely_poly.bounds\n",
        "\n",
        "    points = []\n",
        "\n",
        "    while len(points) < num_points:\n",
        "        random_point = Point([random.uniform(min_x, max_x), random.uniform(min_y, max_y)])\n",
        "        if (random_point.within(shapely_poly)):\n",
        "            points.append(np.array(random_point.coords.xy).T)\n",
        "\n",
        "    points = np.vstack(points)\n",
        "    return points"
      ],
      "metadata": {
        "id": "7jmNZGAYkIkC"
      },
      "execution_count": 4,
      "outputs": []
    },
    {
      "cell_type": "code",
      "source": [
        "# plot A\n",
        "# plt.plot(np.array(A.boundary.coords.xy).T[:,0], np.array(A.boundary.coords.xy).T[:,1], color=(0.855,0.314,0.196,1.0))\n",
        "# plt.gca().add_patch(Circle((a_x, a_y), a_r, zorder=0, lw=2, edgecolor=(0.855,0.314,0.196,1.0), color=(0.855,0.314,0.196,.3)))\n",
        "# plt.text(0,2.3,\"Spanish\", ha='center', color=(.36,.36,.36))\n",
        "\n",
        "# plot B\n",
        "plt.plot(np.array(B.boundary.coords.xy).T[:,0], np.array(B.boundary.coords.xy).T[:,1], color=(0.855,0.314,0.196,1.0))\n",
        "plt.gca().add_patch(Circle((b_x, b_y), b_r, zorder=0, lw=2, edgecolor=(0.855,0.314,0.196,1.0), color=(0.855,0.314,0.196,.3)))\n",
        "plt.text(-1.6,-0.6,\"Besu\", ha='right', color=(.36,.36,.36))\n",
        "\n",
        "# plot C\n",
        "plt.plot(np.array(C.boundary.coords.xy).T[:,0], np.array(C.boundary.coords.xy).T[:,1], color=(0.855,0.314,0.196,1.0))\n",
        "plt.gca().add_patch(Circle((c_x, c_y), c_r, zorder=0, lw=2, edgecolor=(0.855,0.314,0.196,1.0), color=(0.855,0.314,0.196,.3)))\n",
        "plt.text(1.6,-0.6,\"Teku\", ha='left', color=(.36,.36,.36))\n",
        "\n",
        "\n",
        "# Plot the population represented by 100 dots\n",
        "\n",
        "rand_x_range = (-2,2)\n",
        "rand_y_range = (-1.5,2.5)\n",
        "scatter_kwargs = {'color': (.36,.36,.36),\n",
        "                  's': 5}\n",
        "\n",
        "# Plot just A\n",
        "# points = random_points_within(A.difference(B).difference(C), just_a)\n",
        "# plt.scatter(points[:,0],points[:,1], **scatter_kwargs)\n",
        "            \n",
        "# plot just B\n",
        "points = random_points_within(B.difference(C), just_b)\n",
        "plt.scatter(points[:,0],points[:,1], **scatter_kwargs)\n",
        "\n",
        "# plot just C\n",
        "points = random_points_within(C.difference(B), just_c)\n",
        "plt.scatter(points[:,0],points[:,1], **scatter_kwargs)\n",
        "\n",
        "# plot A ^ B\n",
        "# points = random_points_within(A.intersection(B).difference(C), a_intersection_b)\n",
        "# plt.scatter(points[:,0],points[:,1], **scatter_kwargs)\n",
        "\n",
        "# plot A ^ C\n",
        "# points = random_points_within(A.intersection(C).difference(B), a_intersection_c)\n",
        "# plt.scatter(points[:,0],points[:,1], **scatter_kwargs)\n",
        "\n",
        "# plot B ^ C\n",
        "points = random_points_within(B.intersection(C), b_intersection_c)\n",
        "plt.scatter(points[:,0],points[:,1], **scatter_kwargs)\n",
        "\n",
        "# plot A ^ B ^ C\n",
        "# points = random_points_within(A.intersection(B).intersection(C), a_intersection_c)\n",
        "# plt.scatter(points[:,0],points[:,1], **scatter_kwargs)\n",
        "\n",
        "# Fine tune the presentation of the graph\n",
        "plt.axes().set_aspect('equal', 'datalim')\n",
        "plt.gca().axis('off')\n",
        "plt.xlim(-3.5,3.5)\n",
        "plt.ylim(-1.5,2.5)\n",
        "plt.gcf().set_size_inches(6,5)\n",
        "# plt.title('A level subjects chosen', color=(.36,.36,.36))\n",
        "\n",
        "# Save the output\n",
        "plt.savefig('unrelaxed_Venn.png', dpi=600)"
      ],
      "metadata": {
        "colab": {
          "base_uri": "https://localhost:8080/",
          "height": 410
        },
        "id": "zoGx3Ne7kJZY",
        "outputId": "ac8ce0e5-4b55-4fd0-a000-b388b24d8125"
      },
      "execution_count": 6,
      "outputs": [
        {
          "output_type": "stream",
          "name": "stderr",
          "text": [
            "/usr/local/lib/python3.7/dist-packages/ipykernel_launcher.py:8: UserWarning: Setting the 'color' property will override the edgecolor or facecolor properties.\n",
            "  \n",
            "/usr/local/lib/python3.7/dist-packages/ipykernel_launcher.py:13: UserWarning: Setting the 'color' property will override the edgecolor or facecolor properties.\n",
            "  del sys.path[0]\n",
            "/usr/local/lib/python3.7/dist-packages/ipykernel_launcher.py:53: MatplotlibDeprecationWarning: Adding an axes using the same arguments as a previous axes currently reuses the earlier instance.  In a future version, a new instance will always be created and returned.  Meanwhile, this warning can be suppressed, and the future behavior ensured, by passing a unique label to each axes instance.\n"
          ]
        },
        {
          "output_type": "display_data",
          "data": {
            "image/png": "[encoded data removed]",
            "text/plain": [
              "<Figure size 432x360 with 1 Axes>"
            ]
          },
          "metadata": {
            "needs_background": "light"
          }
        }
      ]
    },
    {
      "cell_type": "markdown",
      "source": [
        "# With bounded Lloyd relaxation"
      ],
      "metadata": {
        "id": "lQ3ex0x4lcEr"
      }
    },
    {
      "cell_type": "code",
      "source": [
        "\n",
        "\n",
        "def apply_bounded_lloyd_relaxation(points, boundary, iterations=5):\n",
        "    points_to_use = points.copy()\n",
        "\n",
        "    for i in range(iterations):\n",
        "        vor = Voronoi(np.vstack([points_to_use, boundary]))\n",
        "        relevant_regions = vor.regions\n",
        "        relevant_regions = [a for a in relevant_regions if (-1 not in a) and len(a) > 0]\n",
        "        relevant_regions = [vor.regions[x] for x in vor.point_region[:len(points)]]  # Beta code\n",
        "        regions_coordinates = [np.vstack([vor.vertices[x] for x in region]) for region in relevant_regions]\n",
        "        region_centroids = np.array([Polygon(region).centroid.bounds[:2] for region in regions_coordinates])\n",
        "        points_to_use = region_centroids\n",
        "\n",
        "    return(points_to_use)\n",
        "\n"
      ],
      "metadata": {
        "id": "sH13tleJld5m"
      },
      "execution_count": 7,
      "outputs": []
    },
    {
      "cell_type": "code",
      "source": [
        "# plot A\n",
        "# plt.plot(np.array(A.boundary.coords.xy).T[:,0], np.array(A.boundary.coords.xy).T[:,1], color=(0.855,0.314,0.196,1.0))\n",
        "# plt.gca().add_patch(Circle((a_x, a_y), a_r, zorder=0, lw=2, edgecolor=(0.855,0.314,0.196,1.0), color=(0.855,0.314,0.196,.3)))\n",
        "# plt.text(0,2.3,\"Spanish\", ha='center', color=(.36,.36,.36))\n",
        "\n",
        "# plot B\n",
        "plt.plot(np.array(B.boundary.coords.xy).T[:,0], np.array(B.boundary.coords.xy).T[:,1], color=(0.855,0.314,0.196,1.0))\n",
        "plt.gca().add_patch(Circle((b_x, b_y), b_r, zorder=0, lw=2, edgecolor=(0.855,0.314,0.196,1.0), color=(0.855,0.314,0.196,.3)))\n",
        "plt.text(-1.6,-0.6,\"Besu\", ha='right', color=(.36,.36,.36))\n",
        "\n",
        "# plot C\n",
        "plt.plot(np.array(C.boundary.coords.xy).T[:,0], np.array(C.boundary.coords.xy).T[:,1], color=(0.855,0.314,0.196,1.0))\n",
        "plt.gca().add_patch(Circle((c_x, c_y), c_r, zorder=0, lw=2, edgecolor=(0.855,0.314,0.196,1.0), color=(0.855,0.314,0.196,0.3)))\n",
        "plt.text(1.6,-0.6,\"Teku\", ha='left', color=(.36,.36,.36))\n",
        "\n",
        "\n",
        "# Plot the population\n",
        "\n",
        "rand_x_range = (-2,2)\n",
        "rand_y_range = (-1.5,2.5)\n",
        "scatter_kwargs = {'color': (.36,.36,.36),\n",
        "                  's': 5}\n",
        "\n",
        "\n",
        "\n",
        "# Plot just A\n",
        "# points = random_points_within(A.difference(B).difference(C), just_a)\n",
        "# boundary = A.difference(B).difference(C).boundary\n",
        "# boundary_coordinates = np.array(boundary.coords.xy).T\n",
        "# relaxed_points = apply_bounded_lloyd_relaxation(points, boundary_coordinates, iterations=100)\n",
        "# plt.scatter(relaxed_points[:,0], relaxed_points[:,1], **scatter_kwargs)         \n",
        "            \n",
        "\n",
        "# plot just B\n",
        "points = random_points_within(B.difference(C), just_b)\n",
        "boundary = B.difference(C).boundary\n",
        "boundary_coordinates = np.array(boundary.coords.xy).T\n",
        "relaxed_points = apply_bounded_lloyd_relaxation(points, boundary_coordinates, iterations=190)\n",
        "plt.scatter(relaxed_points[:,0], relaxed_points[:,1], **scatter_kwargs)         \n",
        "            \n",
        "            \n",
        "# plot just C\n",
        "points = random_points_within(C.difference(B), just_c)\n",
        "boundary = C.difference(B).boundary\n",
        "boundary_coordinates = np.array(boundary.coords.xy).T\n",
        "relaxed_points = apply_bounded_lloyd_relaxation(points, boundary_coordinates, iterations=190)\n",
        "plt.scatter(relaxed_points[:,0], relaxed_points[:,1], **scatter_kwargs)            \n",
        "\n",
        "\n",
        "# plot A ^ B\n",
        "# points = random_points_within(A.intersection(B).difference(C), a_intersection_b)\n",
        "# boundary = A.intersection(B).difference(C).boundary\n",
        "# boundary_coordinates = np.array(boundary.coords.xy).T\n",
        "# relaxed_points = apply_bounded_lloyd_relaxation(points, boundary_coordinates, iterations=100)\n",
        "# plt.scatter(relaxed_points[:,0], relaxed_points[:,1], **scatter_kwargs)\n",
        "            \n",
        "# plot A ^ C\n",
        "# points = random_points_within(A.intersection(C).difference(B), a_intersection_c)\n",
        "# boundary = A.intersection(C).difference(B).boundary\n",
        "# boundary_coordinates = np.array(boundary.coords.xy).T\n",
        "# relaxed_points = apply_bounded_lloyd_relaxation(points, boundary_coordinates, iterations=190)\n",
        "# plt.scatter(relaxed_points[:,0], relaxed_points[:,1], **scatter_kwargs)\n",
        "            \n",
        "# plot B ^ C\n",
        "points = random_points_within(B.intersection(C), b_intersection_c)\n",
        "boundary = B.intersection(C).boundary\n",
        "boundary_coordinates = np.array(boundary.coords.xy).T\n",
        "relaxed_points = apply_bounded_lloyd_relaxation(points, boundary_coordinates, iterations=190)\n",
        "plt.scatter(relaxed_points[:,0], relaxed_points[:,1], **scatter_kwargs)\n",
        "\n",
        "\n",
        "# plot A ^ B ^ C\n",
        "# points = random_points_within(A.intersection(B).intersection(C), a_intersection_b_intersection_c)\n",
        "# boundary = A.intersection(B).intersection(C).boundary\n",
        "# boundary_coordinates = np.array(boundary.coords.xy).T\n",
        "# relaxed_points = apply_bounded_lloyd_relaxation(points, boundary_coordinates, iterations=100)\n",
        "# plt.scatter(relaxed_points[:,0], relaxed_points[:,1], **scatter_kwargs)\n",
        "            \n",
        "\n",
        "# Fine tune the presentation of the graph\n",
        "plt.axes().set_aspect('equal', 'datalim')\n",
        "plt.gca().axis('off')\n",
        "plt.xlim(-3.5,3.5)\n",
        "plt.ylim(-1.5,2.5)\n",
        "plt.gcf().set_size_inches(6,5)\n",
        "# plt.title('A level subjects chosen', color=(.36,.36,.36))\n",
        "\n",
        "# Save the output\n",
        "# plt.savefig('Venn.png', dpi=600)\n",
        "plt.savefig(\"Venn.svg\")"
      ],
      "metadata": {
        "colab": {
          "base_uri": "https://localhost:8080/",
          "height": 410
        },
        "id": "-5VS_76nlhi6",
        "outputId": "003d975d-35d4-4f2f-e338-2746da328e5b"
      },
      "execution_count": 10,
      "outputs": [
        {
          "output_type": "stream",
          "name": "stderr",
          "text": [
            "/usr/local/lib/python3.7/dist-packages/ipykernel_launcher.py:8: UserWarning: Setting the 'color' property will override the edgecolor or facecolor properties.\n",
            "  \n",
            "/usr/local/lib/python3.7/dist-packages/ipykernel_launcher.py:13: UserWarning: Setting the 'color' property will override the edgecolor or facecolor properties.\n",
            "  del sys.path[0]\n",
            "/usr/local/lib/python3.7/dist-packages/ipykernel_launcher.py:81: MatplotlibDeprecationWarning: Adding an axes using the same arguments as a previous axes currently reuses the earlier instance.  In a future version, a new instance will always be created and returned.  Meanwhile, this warning can be suppressed, and the future behavior ensured, by passing a unique label to each axes instance.\n"
          ]
        },
        {
          "output_type": "display_data",
          "data": {
            "image/png": "[encoded data removed]",
            "text/plain": [
              "<Figure size 432x360 with 1 Axes>"
            ]
          },
          "metadata": {
            "needs_background": "light"
          }
        }
      ]
    }
  ]
}